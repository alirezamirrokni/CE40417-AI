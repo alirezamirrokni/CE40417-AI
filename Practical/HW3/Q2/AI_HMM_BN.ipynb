{
  "cells": [
    {
      "cell_type": "markdown",
      "metadata": {
        "id": "lGYYFKeJ1GMj"
      },
      "source": [
        "<img src='http://www-scf.usc.edu/~ghasemig/images/sharif.png' alt=\"SUT logo\" width=500 height=300 align=center class=\"saturate\" >\n",
        "\n",
        "<br>\n",
        "<font>\n",
        "<div dir=ltr align=center>\n",
        "<font color=0F5298 size=7>\n",
        "    Artificial Intelligence <br>\n",
        "<font color=2565AE size=5>\n",
        "    Computer Engineering Department <br>\n",
        "    Spring 2024<br>\n",
        "<font color=3C99D size=5>\n",
        "    Practical Assignment 3 - Heart Disease Prediction using Hidden Markov Models  <br>\n",
        "<font color=696880 size=4>\n",
        "Omid Daliran\n"
      ]
    },
    {
      "cell_type": "markdown",
      "metadata": {
        "id": "mKqvyyp3TIzP"
      },
      "source": [
        "# Personal Data"
      ]
    },
    {
      "cell_type": "code",
      "execution_count": 1,
      "metadata": {
        "id": "0geUs2cxytvu"
      },
      "outputs": [],
      "source": [
        "# Set your student number and name\n",
        "student_number = '401106617'\n",
        "Name = 'Alireza'\n",
        "Last_Name = 'Mirrokni'"
      ]
    },
    {
      "cell_type": "markdown",
      "metadata": {
        "id": "7t1ZoXu-0BHq"
      },
      "source": [
        "# Libraries"
      ]
    },
    {
      "cell_type": "code",
      "execution_count": 2,
      "metadata": {
        "id": "ROZMme5FrlVL"
      },
      "outputs": [],
      "source": [
        "import csv\n",
        "import numpy as np\n",
        "import pandas as pd"
      ]
    },
    {
      "cell_type": "markdown",
      "metadata": {
        "id": "22cAp2xx0asS"
      },
      "source": [
        "# Q2: Heart Disease Prediction using Hidden Markov  (100 Points)"
      ]
    },
    {
      "cell_type": "markdown",
      "metadata": {
        "id": "HCCMQjKH1sWi"
      },
      "source": [
        "# Introduction\n",
        "\n",
        "\n",
        "In this notebook, we explore the application of Hidden Markov Models (HMM) in predicting heart disease risk based on DNA sequences. Heart disease is a prevalent and life-threatening condition, and early detection is crucial for effective management. By leveraging HMM, we aim to identify regions within DNA sequences associated with high and low GC content, which have been linked to heart disease susceptibility.\n"
      ]
    },
    {
      "cell_type": "markdown",
      "metadata": {
        "id": "tsYpNuyH4Cu-"
      },
      "source": [
        "# Hidden Markov Models (HMM) (40 points)\n",
        "\n",
        "Hidden Markov Models are probabilistic models widely used in sequential data analysis, particularly in bioinformatics. They are characterized by states, transitions between states, and emission probabilities associated with each state. In our context, the states represent the underlying biological characteristics of DNA sequences, while the emission probabilities signify the likelihood of observing specific nucleotides given each state.\n",
        "\n",
        "To facilitate our heart disease classification, we'll implement a custom Hidden Markov Model (HMM) class in Python. This class will include the Viterbi and Forward algorithms."
      ]
    },
    {
      "cell_type": "code",
      "execution_count": 72,
      "metadata": {
        "id": "UHTspQ58UDSs"
      },
      "outputs": [],
      "source": [
        "class HMM:\n",
        "    def __init__(self, states: list, emissions: list, start_probabilities: list, transition_probabilities: list):\n",
        "        self.states = states\n",
        "        self.state_labels = {i: state for i, state in enumerate(states)}\n",
        "        self.emissions = emissions\n",
        "        self.start_probabilities = start_probabilities\n",
        "        self.transition_probabilities = transition_probabilities\n",
        "\n",
        "    def viterbi(self, sequence: str) -> tuple:\n",
        "        '''\n",
        "        This method performs the Viterbi algorithm within the Hidden Markov Model (HMM) class to predict the most likely sequence of hidden states given an observed sequence, such as a DNA sequence.\n",
        "\n",
        "        Parameters:\n",
        "        - sequence: The observed sequence for which the most likely hidden state sequence is to be predicted.\n",
        "\n",
        "        Returns:\n",
        "        - path: The predicted sequence of hidden states corresponding to the input sequence.\n",
        "        - max_probability: The maximum probability associated with the predicted path.\n",
        "        '''\n",
        "        # TODO\n",
        "        o = len(sequence)\n",
        "        V = [{} for i in range(o)]\n",
        "        paths = {}\n",
        "\n",
        "        for state_label in self.state_labels:\n",
        "          V[0][state_label] = self.start_probabilities[state_label] * self.emissions[state_label][sequence[0]]\n",
        "          paths[state_label] = self.states[state_label]\n",
        "\n",
        "        for t in range(1, o):\n",
        "          new_paths = {}\n",
        "\n",
        "          for state_label in self.state_labels:\n",
        "            prev_state, max_viterbi = None, -np.inf\n",
        "\n",
        "            for prev_state_label in self.state_labels:\n",
        "              viterbi = V[t - 1][prev_state_label] * self.transition_probabilities[prev_state_label][state_label] * self.emissions[state_label][sequence[t]]\n",
        "              if(viterbi > max_viterbi):\n",
        "                prev_state, max_viterbi = prev_state_label, viterbi\n",
        "\n",
        "            V[t][state_label] = max_viterbi\n",
        "            new_paths[state_label] = paths[prev_state] + self.states[state_label]\n",
        "\n",
        "          paths = new_paths\n",
        "\n",
        "        path, max_probability = None, -np.inf\n",
        "\n",
        "        for state_label in self.state_labels:\n",
        "          if(V[o - 1][state_label] > max_probability):\n",
        "            path, max_probability = paths[state_label], V[o - 1][state_label]\n",
        "\n",
        "        return path, max_probability\n",
        "\n",
        "    def forward_algorithm(self, sequence: str) -> list:\n",
        "        '''\n",
        "        This method performs the Forward algorithm within the Hidden Markov Model (HMM) class to calculate the probability of observing a given sequence under the model.\n",
        "\n",
        "        Parameters:\n",
        "        - sequence: The observed sequence for which the likelihood is to be calculated.\n",
        "\n",
        "        Returns:\n",
        "        - probability_last_states: The probabilities of the final states after observing the entire sequence.\n",
        "        '''\n",
        "        # TODO\n",
        "        o = len(sequence)\n",
        "        n = len(self.states)\n",
        "        F = [0 for i in range(n)]\n",
        "\n",
        "        for state_label in self.state_labels:\n",
        "          F[state_label] = self.emissions[state_label][sequence[0]] * self.start_probabilities[state_label]\n",
        "\n",
        "        for t in range(1, o):\n",
        "          new_F = [0 for i in range(n)]\n",
        "\n",
        "          for state_label in self.state_labels:\n",
        "            new_F[state_label] = self.emissions[state_label][sequence[t]] * sum(F[prev_state_label] * self.transition_probabilities[prev_state_label][state_label] for prev_state_label in self.state_labels)\n",
        "\n",
        "          F = new_F.copy()\n",
        "\n",
        "        probability_last_states = F\n",
        "        total_sum = sum(F)\n",
        "\n",
        "        for i in range(n):\n",
        "          probability_last_states[i] /= total_sum\n",
        "\n",
        "        return probability_last_states\n"
      ]
    },
    {
      "cell_type": "markdown",
      "metadata": {
        "id": "9isx2p9kFT4o"
      },
      "source": [
        "GC content, the proportion of guanine (G) and cytosine (C) nucleotides in a DNA sequence, is a fundamental genomic feature. Variations in GC content have been implicated in various biological processes, including gene regulation and disease susceptibility. Specifically, high GC content (H) regions are associated with increased gene expression and potential regulatory elements, while low GC content (L) regions may indicate structural elements or regions prone to mutations. The transition and emission and start probabilities are as shown in the image below:\n",
        "\n",
        "![Probabilities](Probabilities.png)"
      ]
    },
    {
      "cell_type": "markdown",
      "metadata": {
        "id": "tbsj8kioQIAu"
      },
      "source": []
    },
    {
      "cell_type": "code",
      "execution_count": 73,
      "metadata": {
        "colab": {
          "base_uri": "https://localhost:8080/"
        },
        "id": "9CcWsAvQXjJ_",
        "outputId": "602a707e-cc8f-4c1e-ec5b-94210244ef91"
      },
      "outputs": [
        {
          "name": "stdout",
          "output_type": "stream",
          "text": [
            "Viterbi Path: LLHHHHHLLHHLLHHLLLHHHHL\n",
            "Max Probability (Viterbi): 1.1438396227480495e-19\n",
            "Probability (Forward Algorithm): [0.35818008853498684, 0.6418199114650132]\n"
          ]
        }
      ],
      "source": [
        "# TODO: Complete and run this code to check your implementation\n",
        "\n",
        "states = ['H', 'L']\n",
        "emissions = [{'A' : 0.2, 'C' : 0.3, 'G' : 0.3, 'T' : 0.2}, {'A' : 0.3, 'C' : 0.2, 'G' : 0.2, 'T' : 0.3}]\n",
        "start_probabilities = [0.5, 0.5]\n",
        "transition_probabilities = [[0.5, 0.5], [0.4, 0.6]]\n",
        "\n",
        "hmm = HMM(states, emissions, start_probabilities, transition_probabilities)\n",
        "\n",
        "# Example DNA sequence\n",
        "sequence = \"ATGCGCGATCGATCGAATCGCGT\"\n",
        "\n",
        "# Viterbi algorithm\n",
        "path, max_probability = hmm.viterbi(sequence)\n",
        "print(\"Viterbi Path:\", path)\n",
        "print(\"Max Probability (Viterbi):\", max_probability)\n",
        "\n",
        "# Forward algorithm\n",
        "probability = hmm.forward_algorithm(sequence)\n",
        "print(\"Probability (Forward Algorithm):\", probability)"
      ]
    },
    {
      "cell_type": "markdown",
      "metadata": {
        "id": "RE8zgAe07NnC"
      },
      "source": [
        "# Calculating Probabilities for Blood Type, Height, and Weight (10 points)\n",
        "\n",
        "After obtaining the sequence of H and L regions from the DNA using the Viterbi algorithm, we proceed to calculate the probabilities for other attributes such as blood type, height, weight, and the presence or absence of DCM (DCM, or Dilated Cardiomyopathy, is a heart condition characterized by the enlargement of the heart's left ventricle. It can lead to heart failure if not properly managed.) using the Forward algorithm. In this step, we aim to leverage the Hidden Markov Model (HMM) to infer these attributes based on the observed GC content sequence.\n",
        "\n",
        "\n",
        "We will use the functionality of the Forward algorithm to compute the probabilities associated with each possible state after observing the sequence.\n",
        "\n",
        "Attributes and Possible States:\n",
        "* Blood Type: O, A, B, AB\n",
        "* Height: 160 cm, 170 cm, 180 cm, 190 cm\n",
        "* Weight: 50 kg, 65 kg, 80 kg, 95 kg\n",
        "* DCM: Y (indicating presence) or N (indicating absence)\n"
      ]
    },
    {
      "cell_type": "code",
      "execution_count": 74,
      "metadata": {
        "id": "MKDBSoumfmb6"
      },
      "outputs": [],
      "source": [
        "def probabilities_from_sequence(sequence: str) -> tuple:\n",
        "  '''\n",
        "  This function, `probabilities_from_sequence(sequence)`, computes the probabilities associated with attributes such as blood type, height, weight, and the presence or absence of Dilated Cardiomyopathy (DCM) based on an input DNA sequence.\n",
        "\n",
        "  ### Input:\n",
        "  - `sequence`: The observed DNA sequence for which probabilities are to be computed.\n",
        "\n",
        "  ### Output:\n",
        "  The function returns dictionaries containing the probabilities for each possible state of the respective attributes:\n",
        "  - `height_probability_dic`: Probabilities for height categories (160 cm, 170 cm, 180 cm, 190 cm).\n",
        "  - `weight_probability_dic`: Probabilities for weight categories (50 kg, 65 kg, 80 kg, 95 kg).\n",
        "  - `blood_type_probability_dic`: Probabilities for blood types (O, A, B, AB).\n",
        "  - `DCM_probability_dic`: Probabilities for the presence (Y) or absence (N) of Dilated Cardiomyopathy (DCM).\n",
        "  '''\n",
        "  # Define the emission probabilities for each feature\n",
        "\n",
        "  height_emissions = [{'H': 0.2, 'L': 0.8}, {'H': 0.3, 'L': 0.7},\n",
        "                      {'H': 0.9, 'L': 0.1}, {'H': 0.8, 'L': 0.2}]\n",
        "\n",
        "  weight_emissions = [{'H': 0.3, 'L': 0.7}, {'H': 0.1, 'L': 0.9},\n",
        "                      {'H': 0.2, 'L': 0.8}, {'H': 0.7, 'L': 0.3}]\n",
        "\n",
        "  blood_type_emissions = [{'H': 0.75, 'L': 0.25}, {'H': 0.8, 'L': 0.2},\n",
        "                          {'H': 0.85, 'L': 0.15}, {'H': 0.7, 'L': 0.3}]\n",
        "\n",
        "  DCM_emissions = [{'H': 0.7, 'L': 0.3}, {'H': 0.6, 'L': 0.4}]\n",
        "\n",
        "  # Define the transition probabilities for each feature\n",
        "  height_transition_probabilities = [[0.7, 0.2, 0.05, 0.05], [0.1, 0.8, 0.05, 0.05], [0.1, 0.1, 0.7, 0.1], [0.1, 0.1, 0.1, 0.7]]\n",
        "  weight_transition_probabilities = [[0.7, 0.2, 0.05, 0.05], [0.1, 0.8, 0.05, 0.05], [0.1, 0.1, 0.7, 0.1], [0.1, 0.1, 0.1, 0.7]]\n",
        "  blood_type_transition_probabilities = [[0.7, 0.2, 0.05, 0.05], [0.1, 0.8, 0.05, 0.05], [0.1, 0.1, 0.7, 0.1], [0.1, 0.1, 0.1, 0.7]]\n",
        "  DCM_transition_probabilities = [[0.9, 0.1], [0.1, 0.9]]\n",
        "\n",
        "\n",
        "  # Define start probabilities for each state\n",
        "  height_start_probabilities = [0.1, 0.4, 0.4, 0.1]\n",
        "  weight_start_probabilities = [0.15, 0.35, 0.35, 0.15]\n",
        "  blood_type_start_probabilities = [0.1, 0.35, 0.35, 0.2]\n",
        "  DCM_start_probabilities = [0.25, 0.75]\n",
        "\n",
        "\n",
        "  height_probability_dic, weight_probability_dic, blood_type_probability_dic, DCM_probability_dic = None, None, None, None\n",
        "\n",
        "\n",
        "  # TODO: complete the code\n",
        "  height_states = [160, 170, 180, 190]\n",
        "  weight_states = [50, 65, 80, 95]\n",
        "  blood_type_states = ['O', 'A', 'B', 'AB']\n",
        "  DCM_states = ['Y', 'N']\n",
        "\n",
        "  height_hmm = HMM(height_states, height_emissions, height_start_probabilities, height_transition_probabilities)\n",
        "  weight_hmm = HMM(weight_states, weight_emissions, weight_start_probabilities, weight_transition_probabilities)\n",
        "  blood_type_hmm = HMM(blood_type_states, blood_type_emissions, blood_type_start_probabilities, blood_type_transition_probabilities)\n",
        "  DCM_hmm = HMM(DCM_states, DCM_emissions, DCM_start_probabilities, DCM_transition_probabilities)\n",
        "\n",
        "  height_probability_dic = {height_states[i] : height_hmm.forward_algorithm(sequence)[i] for i in range(len(height_states))}\n",
        "  weight_probability_dic = {weight_states[i] : weight_hmm.forward_algorithm(sequence)[i] for i in range(len(weight_states))}\n",
        "  blood_type_probability_dic = {blood_type_states[i] : blood_type_hmm.forward_algorithm(sequence)[i] for i in range(len(blood_type_states))}\n",
        "  DCM_probability_dic = {DCM_states[i] : DCM_hmm.forward_algorithm(sequence)[i] for i in range(len(DCM_states))}\n",
        "\n",
        "  return height_probability_dic, weight_probability_dic, blood_type_probability_dic, DCM_probability_dic\n",
        "\n"
      ]
    },
    {
      "cell_type": "code",
      "execution_count": 75,
      "metadata": {
        "colab": {
          "base_uri": "https://localhost:8080/"
        },
        "id": "vwGQ9QSAhEl5",
        "outputId": "beec14d3-ca6e-4920-86c5-4db825f49a5d"
      },
      "outputs": [
        {
          "name": "stdout",
          "output_type": "stream",
          "text": [
            "Probability of height given sequence: {160: 0.3660593174871113, 170: 0.5760951509787053, 180: 0.01585035336762777, 190: 0.041995178166555486}\n",
            "Probability of weight given sequence: {50: 0.2845952908892867, 65: 0.42707075390249144, 80: 0.20957356322963913, 95: 0.07876039197858278}\n",
            "Probability of blood type given sequence: {'O': 0.2962828473309036, 'A': 0.3305080573190477, 'B': 0.08789883086305703, 'AB': 0.2853102644869916}\n",
            "Probability of DCM given sequence: {'Y': 0.3297758181008331, 'N': 0.670224181899167}\n"
          ]
        }
      ],
      "source": [
        "# Run this code to check your implementation\n",
        "# Example sequence of 'H' and 'L'\n",
        "sequence = \"HHLLHHHLLHLLLLHHLL\"\n",
        "\n",
        "height_probability, weight_probability, blood_type_probability, DCM_probability = probabilities_from_sequence(sequence)\n",
        "\n",
        "print(\"Probability of height given sequence:\", height_probability)\n",
        "print(\"Probability of weight given sequence:\", weight_probability)\n",
        "print(\"Probability of blood type given sequence:\", blood_type_probability)\n",
        "print(\"Probability of DCM given sequence:\", DCM_probability)"
      ]
    },
    {
      "cell_type": "markdown",
      "metadata": {
        "id": "EglKERkiKrZv"
      },
      "source": [
        "# Bayesian Network for Heart Disease Probability Calculation (30 points)\n",
        "\n",
        "In this section, we introduce a Bayesian network to calculate the probability of heart disease based on various features. We assume that the relationships between features follow a specific structure, depicted in the image below.\n",
        "\n",
        "![Bayesian Net](BN.png)\n",
        "\n",
        "The Bayesian network comprises nodes representing different features, including sex, weight, height, Dilated Cardiomyopathy (DCM), blood type, and heart disease. The directed edges between nodes indicate probabilistic dependencies between them.\n",
        "\n",
        "Function Implementation:\n",
        "We will implement two functions to facilitate the calculation of heart disease probability:\n",
        "\n",
        "1. calculate_sex_probability:\n",
        "\n",
        "  This function calculates the probability of sex based on the given probabilities of weight and height.\n",
        "\n",
        "2. calculate_heart_disease_probability:\n",
        "\n",
        "  This function computes the probability of heart disease based on the probabilities of sex, DCM, and blood type."
      ]
    },
    {
      "cell_type": "code",
      "execution_count": 76,
      "metadata": {
        "id": "wi3Rz_6eOCpD"
      },
      "outputs": [],
      "source": [
        "# The probability of sex given height and weight, the tuple is in this order: (sex, height, weight)\n",
        "P_sex_given_hw = {\n",
        "    ('M', 160, 50): 0.7, ('F', 160, 50): 0.3,\n",
        "    ('M', 160, 65): 0.2, ('F', 160, 65): 0.8,\n",
        "    ('M', 160, 80): 0.3, ('F', 160, 80): 0.7,\n",
        "    ('M', 160, 95): 0.2, ('F', 160, 95): 0.8,\n",
        "    ('M', 170, 50): 0.8, ('F', 170, 50): 0.2,\n",
        "    ('M', 170, 65): 0.75, ('F', 170, 65): 0.25,\n",
        "    ('M', 170, 80): 0.4, ('F', 170, 80): 0.6,\n",
        "    ('M', 170, 95): 0.3, ('F', 170, 95): 0.7,\n",
        "    ('M', 180, 50): 0.9, ('F', 180, 50): 0.1,\n",
        "    ('M', 180, 65): 0.7, ('F', 180, 65): 0.3,\n",
        "    ('M', 180, 80): 0.65, ('F', 180, 80): 0.35,\n",
        "    ('M', 180, 95): 0.4, ('F', 180, 95): 0.6,\n",
        "    ('M', 190, 50): 0.95, ('F', 190, 50): 0.05,\n",
        "    ('M', 190, 65): 0.8, ('F', 190, 65): 0.2,\n",
        "    ('M', 190, 80): 0.6, ('F', 190, 80): 0.4,\n",
        "    ('M', 190, 95): 0.95, ('F', 190, 95): 0.05\n",
        "}"
      ]
    },
    {
      "cell_type": "code",
      "execution_count": 85,
      "metadata": {
        "id": "p_sCg50LOraD"
      },
      "outputs": [],
      "source": [
        "def calculate_sex_probability(height_prob: dict, weight_prob: dict) -> dict:\n",
        "    '''\n",
        "    This function, `calculate_sex_probability(height_prob, weight_prob)`, computes the probability of sex based on the probabilities of height and weight.\n",
        "\n",
        "    Parameters:\n",
        "    - height_prob: Dictionary containing probabilities for height categories.\n",
        "    - weight_prob: Dictionary containing probabilities for weight categories.\n",
        "\n",
        "    Returns:\n",
        "    - Dictionary containing probabilities for male (M) and female (F) sexes.\n",
        "    '''\n",
        "\n",
        "    sex_dic = {'M': 0, 'F': 1}\n",
        "\n",
        "    sex_probability = np.zeros(2)\n",
        "\n",
        "    # TODO: complete the code\n",
        "    for state in P_sex_given_hw:\n",
        "      sex_probability[sex_dic[state[0]]] += P_sex_given_hw[state] * height_prob[state[1]] * weight_prob[state[2]]\n",
        "\n",
        "    total_sum = sum(sex_probability)\n",
        "    sex_probability /= total_sum\n",
        "\n",
        "    return {'M': sex_probability[0], 'F':sex_probability[1]}\n"
      ]
    },
    {
      "cell_type": "code",
      "execution_count": 86,
      "metadata": {
        "colab": {
          "base_uri": "https://localhost:8080/"
        },
        "id": "zChVjCjzOVoZ",
        "outputId": "55f7ae02-9d44-4950-84af-541e289c1f87"
      },
      "outputs": [
        {
          "name": "stdout",
          "output_type": "stream",
          "text": [
            "Probability of sex: {'M': 0.6355000000000001, 'F': 0.3645}\n"
          ]
        }
      ],
      "source": [
        "# Run this code to test you implementation\n",
        "# Example probabilities of height\n",
        "P_height = {160: 0.1, 170: 0.3, 180: 0.4, 190: 0.2}\n",
        "# Example probabilities of weight\n",
        "P_weight = {50: 0.2, 65: 0.3, 80: 0.4, 95: 0.1}\n",
        "# Example conditional probabilities of sex given height and weight\n",
        "\n",
        "\n",
        "sex_probabilities = calculate_sex_probability(P_height, P_weight)\n",
        "print(\"Probability of sex:\", sex_probabilities)"
      ]
    },
    {
      "cell_type": "code",
      "execution_count": 90,
      "metadata": {
        "id": "mRooypaNPDr5"
      },
      "outputs": [],
      "source": [
        "# The probability of hear disease given sex, DCM and blood type, the tuple is in this order: (heart disease, sex, blood type, DCM)\n",
        "P_heart_disease_given_parents = {\n",
        "    ('N', 'M', 'O', 'Y'): 0.3, ('Y', 'M', 'O', 'Y'): 0.7,\n",
        "    ('N', 'M', 'A', 'Y'): 0.4, ('Y', 'M', 'A', 'Y'): 0.6,\n",
        "    ('N', 'M', 'B', 'Y'): 0.5, ('Y', 'M', 'B', 'Y'): 0.5,\n",
        "    ('N', 'M', 'AB', 'Y'): 0.6, ('Y', 'M', 'AB', 'Y'): 0.4,\n",
        "    ('N', 'F', 'O', 'Y'): 0.6, ('Y', 'F', 'O', 'Y'): 0.4,\n",
        "    ('N', 'F', 'A', 'Y'): 0.3, ('Y', 'F', 'A', 'Y'): 0.7,\n",
        "    ('N', 'F', 'B', 'Y'): 0.4, ('Y', 'F', 'B', 'Y'): 0.6,\n",
        "    ('N', 'F', 'AB', 'Y'): 0.7, ('Y', 'F', 'AB', 'Y'): 0.3,\n",
        "    ('N', 'M', 'O', 'N'): 0.6, ('Y', 'M', 'O', 'N'): 0.4,\n",
        "    ('N', 'M', 'A', 'N'): 0.15, ('Y', 'M', 'A', 'N'): 0.85,\n",
        "    ('N', 'M', 'B', 'N'): 0.4, ('Y', 'M', 'B', 'N'): 0.6,\n",
        "    ('N', 'M', 'AB', 'N'): 0.7, ('Y', 'M', 'AB', 'N'): 0.3,\n",
        "    ('N', 'F', 'O', 'N'): 0.8, ('Y', 'F', 'O', 'N'): 0.2,\n",
        "    ('N', 'F', 'A', 'N'): 0.7, ('Y', 'F', 'A', 'N'): 0.3,\n",
        "    ('N', 'F', 'B', 'N'): 0.65, ('Y', 'F', 'B', 'N'): 0.35,\n",
        "    ('N', 'F', 'AB', 'N'): 0.35, ('Y', 'F', 'AB', 'N'): 0.65,\n",
        "}"
      ]
    },
    {
      "cell_type": "code",
      "execution_count": 95,
      "metadata": {
        "id": "yIG7zuoyPiiN"
      },
      "outputs": [],
      "source": [
        "def calculate_heart_disease_probability(DCM_prob: dict, sex_prob: dict, blood_type_prob: dict) -> dict:\n",
        "    '''\n",
        "    Function: Calculate Heart Disease Probability\n",
        "\n",
        "    This function, `calculate_heart_disease_probability(DCM_prob, sex_prob, blood_type_prob, heart_disease_given_parents)`, computes the probability of heart disease based on the probabilities of Dilated Cardiomyopathy (DCM), sex, and blood type.\n",
        "\n",
        "    Parameters:\n",
        "    - DCM_prob: Dictionary containing probabilities for DCM categories.\n",
        "    - sex_prob: Dictionary containing probabilities for sex categories.\n",
        "    - blood_type_prob: Dictionary containing probabilities for blood type categories.\n",
        "\n",
        "    Returns:\n",
        "    - Dictionary containing probabilities for the presence (Y) and absence (N) of heart disease.\n",
        "    '''\n",
        "\n",
        "    heart_disease_dic = {'Y': 0, 'N': 1}\n",
        "\n",
        "    heart_disease_probability = np.zeros(2)\n",
        "\n",
        "    # TODO: complete the code\n",
        "    for state in P_heart_disease_given_parents:\n",
        "      heart_disease_probability[heart_disease_dic[state[0]]] += P_heart_disease_given_parents[state] * sex_prob[state[1]] * blood_type_prob[state[2]] * DCM_prob[state[3]]\n",
        "\n",
        "    total_sum = sum(heart_disease_probability)\n",
        "    heart_disease_probability /= total_sum\n",
        "\n",
        "    return {'Y':heart_disease_probability[0], 'N':heart_disease_probability[1]}\n"
      ]
    },
    {
      "cell_type": "code",
      "execution_count": 96,
      "metadata": {
        "colab": {
          "base_uri": "https://localhost:8080/"
        },
        "id": "QA0XWltJPXJL",
        "outputId": "1d7a029a-47d5-48f9-f2ea-b7037186641f"
      },
      "outputs": [
        {
          "name": "stdout",
          "output_type": "stream",
          "text": [
            "Probability of heart disease:  {'Y': 0.4152, 'N': 0.5848}\n"
          ]
        }
      ],
      "source": [
        "# Run this code to test you implementation\n",
        "# Example probabilities of DCM\n",
        "P_DCM = {'Y': 0.2, 'N': 0.8}\n",
        "# Example probabilities of blood type\n",
        "P_blood_type = {'O': 0.4, 'A': 0.3, 'B': 0.2, 'AB': 0.1}\n",
        "# Example probabilities of sex\n",
        "P_sex = {'M': 0.3, 'F': 0.7}\n",
        "\n",
        "\n",
        "heart_disease_probabilities = calculate_heart_disease_probability(P_DCM, P_sex, P_blood_type)\n",
        "print(\"Probability of heart disease: \",heart_disease_probabilities)"
      ]
    },
    {
      "cell_type": "markdown",
      "metadata": {
        "id": "i-T4axv2P2n3"
      },
      "source": [
        "# Loading DNA Sequences and Heart Disease Probability Calculation (20 points)\n",
        "\n",
        "In this part, we will load the DNA sequences from the file DNA_patients.csv and calculate the probability of heart disease for each patient. Subsequently, we will classify the patients based on their heart disease probability and save the data."
      ]
    },
    {
      "cell_type": "code",
      "execution_count": 97,
      "metadata": {
        "colab": {
          "base_uri": "https://localhost:8080/",
          "height": 206
        },
        "id": "AdJEmpbNSuV9",
        "outputId": "3256189e-7d04-48df-cbd9-455eb223ff19"
      },
      "outputs": [
        {
          "data": {
            "application/vnd.google.colaboratory.intrinsic+json": {
              "summary": "{\n  \"name\": \"df\",\n  \"rows\": 1000,\n  \"fields\": [\n    {\n      \"column\": \"ID\",\n      \"properties\": {\n        \"dtype\": \"number\",\n        \"std\": 288,\n        \"min\": 1,\n        \"max\": 1000,\n        \"num_unique_values\": 1000,\n        \"samples\": [\n          522,\n          738,\n          741\n        ],\n        \"semantic_type\": \"\",\n        \"description\": \"\"\n      }\n    },\n    {\n      \"column\": \"DNA\",\n      \"properties\": {\n        \"dtype\": \"string\",\n        \"num_unique_values\": 1000,\n        \"samples\": [\n          \"AAGGTTTTGTTCGTTGGTTAGTCTATTATGGAAATAGGGTTGTAGTTTGTAGGGTATTTTTGATGATACGGTAGGTTAAGGTTTGTGACTGAAGTTGCAA\",\n          \"ACAACAACCCTCGAGTCTGAGCTCCACGGACCCCACGTGCCGCAAGCCCACCCTCCACACCATCGGAACCTCTCAACTATCTTTAACGTTAGCATCCCAC\",\n          \"CGCGGGGGAGGATCGTCTGCGTCGGTCGGACCGCCCTCGCCCCGCAACACTGTTCGCTAGTGTCTTCCATCTGCCGCCAGGGAGCGTGATGGCATGCGGG\"\n        ],\n        \"semantic_type\": \"\",\n        \"description\": \"\"\n      }\n    }\n  ]\n}",
              "type": "dataframe",
              "variable_name": "df"
            },
            "text/html": [
              "\n",
              "  <div id=\"df-578e5591-fd33-4b96-a717-752435b09059\" class=\"colab-df-container\">\n",
              "    <div>\n",
              "<style scoped>\n",
              "    .dataframe tbody tr th:only-of-type {\n",
              "        vertical-align: middle;\n",
              "    }\n",
              "\n",
              "    .dataframe tbody tr th {\n",
              "        vertical-align: top;\n",
              "    }\n",
              "\n",
              "    .dataframe thead th {\n",
              "        text-align: right;\n",
              "    }\n",
              "</style>\n",
              "<table border=\"1\" class=\"dataframe\">\n",
              "  <thead>\n",
              "    <tr style=\"text-align: right;\">\n",
              "      <th></th>\n",
              "      <th>ID</th>\n",
              "      <th>DNA</th>\n",
              "    </tr>\n",
              "  </thead>\n",
              "  <tbody>\n",
              "    <tr>\n",
              "      <th>0</th>\n",
              "      <td>1</td>\n",
              "      <td>CTCCAATACCCCCCACAAGAACACACCCATAAAATTGCAACCCACA...</td>\n",
              "    </tr>\n",
              "    <tr>\n",
              "      <th>1</th>\n",
              "      <td>2</td>\n",
              "      <td>TTGATGTAGAAGTATATTTGTTGGGTATTTGAGGTAACGTTATTAG...</td>\n",
              "    </tr>\n",
              "    <tr>\n",
              "      <th>2</th>\n",
              "      <td>3</td>\n",
              "      <td>ATATAATTTAAAGTCACTGGAAAAAAACAACCTAATAAAAACCACC...</td>\n",
              "    </tr>\n",
              "    <tr>\n",
              "      <th>3</th>\n",
              "      <td>4</td>\n",
              "      <td>TAAAGACAAAATTAAATTGAAGTAATGTTATGTTAAAATTTTGAAT...</td>\n",
              "    </tr>\n",
              "    <tr>\n",
              "      <th>4</th>\n",
              "      <td>5</td>\n",
              "      <td>AGCGTTTGTTCGTTAGCCGTAGGCAATGACGTGATTCAGGTCTGTG...</td>\n",
              "    </tr>\n",
              "  </tbody>\n",
              "</table>\n",
              "</div>\n",
              "    <div class=\"colab-df-buttons\">\n",
              "\n",
              "  <div class=\"colab-df-container\">\n",
              "    <button class=\"colab-df-convert\" onclick=\"convertToInteractive('df-578e5591-fd33-4b96-a717-752435b09059')\"\n",
              "            title=\"Convert this dataframe to an interactive table.\"\n",
              "            style=\"display:none;\">\n",
              "\n",
              "  <svg xmlns=\"http://www.w3.org/2000/svg\" height=\"24px\" viewBox=\"0 -960 960 960\">\n",
              "    <path d=\"M120-120v-720h720v720H120Zm60-500h600v-160H180v160Zm220 220h160v-160H400v160Zm0 220h160v-160H400v160ZM180-400h160v-160H180v160Zm440 0h160v-160H620v160ZM180-180h160v-160H180v160Zm440 0h160v-160H620v160Z\"/>\n",
              "  </svg>\n",
              "    </button>\n",
              "\n",
              "  <style>\n",
              "    .colab-df-container {\n",
              "      display:flex;\n",
              "      gap: 12px;\n",
              "    }\n",
              "\n",
              "    .colab-df-convert {\n",
              "      background-color: #E8F0FE;\n",
              "      border: none;\n",
              "      border-radius: 50%;\n",
              "      cursor: pointer;\n",
              "      display: none;\n",
              "      fill: #1967D2;\n",
              "      height: 32px;\n",
              "      padding: 0 0 0 0;\n",
              "      width: 32px;\n",
              "    }\n",
              "\n",
              "    .colab-df-convert:hover {\n",
              "      background-color: #E2EBFA;\n",
              "      box-shadow: 0px 1px 2px rgba(60, 64, 67, 0.3), 0px 1px 3px 1px rgba(60, 64, 67, 0.15);\n",
              "      fill: #174EA6;\n",
              "    }\n",
              "\n",
              "    .colab-df-buttons div {\n",
              "      margin-bottom: 4px;\n",
              "    }\n",
              "\n",
              "    [theme=dark] .colab-df-convert {\n",
              "      background-color: #3B4455;\n",
              "      fill: #D2E3FC;\n",
              "    }\n",
              "\n",
              "    [theme=dark] .colab-df-convert:hover {\n",
              "      background-color: #434B5C;\n",
              "      box-shadow: 0px 1px 3px 1px rgba(0, 0, 0, 0.15);\n",
              "      filter: drop-shadow(0px 1px 2px rgba(0, 0, 0, 0.3));\n",
              "      fill: #FFFFFF;\n",
              "    }\n",
              "  </style>\n",
              "\n",
              "    <script>\n",
              "      const buttonEl =\n",
              "        document.querySelector('#df-578e5591-fd33-4b96-a717-752435b09059 button.colab-df-convert');\n",
              "      buttonEl.style.display =\n",
              "        google.colab.kernel.accessAllowed ? 'block' : 'none';\n",
              "\n",
              "      async function convertToInteractive(key) {\n",
              "        const element = document.querySelector('#df-578e5591-fd33-4b96-a717-752435b09059');\n",
              "        const dataTable =\n",
              "          await google.colab.kernel.invokeFunction('convertToInteractive',\n",
              "                                                    [key], {});\n",
              "        if (!dataTable) return;\n",
              "\n",
              "        const docLinkHtml = 'Like what you see? Visit the ' +\n",
              "          '<a target=\"_blank\" href=https://colab.research.google.com/notebooks/data_table.ipynb>data table notebook</a>'\n",
              "          + ' to learn more about interactive tables.';\n",
              "        element.innerHTML = '';\n",
              "        dataTable['output_type'] = 'display_data';\n",
              "        await google.colab.output.renderOutput(dataTable, element);\n",
              "        const docLink = document.createElement('div');\n",
              "        docLink.innerHTML = docLinkHtml;\n",
              "        element.appendChild(docLink);\n",
              "      }\n",
              "    </script>\n",
              "  </div>\n",
              "\n",
              "\n",
              "<div id=\"df-933df481-ddbf-4a27-afe9-f37ee0a46ee7\">\n",
              "  <button class=\"colab-df-quickchart\" onclick=\"quickchart('df-933df481-ddbf-4a27-afe9-f37ee0a46ee7')\"\n",
              "            title=\"Suggest charts\"\n",
              "            style=\"display:none;\">\n",
              "\n",
              "<svg xmlns=\"http://www.w3.org/2000/svg\" height=\"24px\"viewBox=\"0 0 24 24\"\n",
              "     width=\"24px\">\n",
              "    <g>\n",
              "        <path d=\"M19 3H5c-1.1 0-2 .9-2 2v14c0 1.1.9 2 2 2h14c1.1 0 2-.9 2-2V5c0-1.1-.9-2-2-2zM9 17H7v-7h2v7zm4 0h-2V7h2v10zm4 0h-2v-4h2v4z\"/>\n",
              "    </g>\n",
              "</svg>\n",
              "  </button>\n",
              "\n",
              "<style>\n",
              "  .colab-df-quickchart {\n",
              "      --bg-color: #E8F0FE;\n",
              "      --fill-color: #1967D2;\n",
              "      --hover-bg-color: #E2EBFA;\n",
              "      --hover-fill-color: #174EA6;\n",
              "      --disabled-fill-color: #AAA;\n",
              "      --disabled-bg-color: #DDD;\n",
              "  }\n",
              "\n",
              "  [theme=dark] .colab-df-quickchart {\n",
              "      --bg-color: #3B4455;\n",
              "      --fill-color: #D2E3FC;\n",
              "      --hover-bg-color: #434B5C;\n",
              "      --hover-fill-color: #FFFFFF;\n",
              "      --disabled-bg-color: #3B4455;\n",
              "      --disabled-fill-color: #666;\n",
              "  }\n",
              "\n",
              "  .colab-df-quickchart {\n",
              "    background-color: var(--bg-color);\n",
              "    border: none;\n",
              "    border-radius: 50%;\n",
              "    cursor: pointer;\n",
              "    display: none;\n",
              "    fill: var(--fill-color);\n",
              "    height: 32px;\n",
              "    padding: 0;\n",
              "    width: 32px;\n",
              "  }\n",
              "\n",
              "  .colab-df-quickchart:hover {\n",
              "    background-color: var(--hover-bg-color);\n",
              "    box-shadow: 0 1px 2px rgba(60, 64, 67, 0.3), 0 1px 3px 1px rgba(60, 64, 67, 0.15);\n",
              "    fill: var(--button-hover-fill-color);\n",
              "  }\n",
              "\n",
              "  .colab-df-quickchart-complete:disabled,\n",
              "  .colab-df-quickchart-complete:disabled:hover {\n",
              "    background-color: var(--disabled-bg-color);\n",
              "    fill: var(--disabled-fill-color);\n",
              "    box-shadow: none;\n",
              "  }\n",
              "\n",
              "  .colab-df-spinner {\n",
              "    border: 2px solid var(--fill-color);\n",
              "    border-color: transparent;\n",
              "    border-bottom-color: var(--fill-color);\n",
              "    animation:\n",
              "      spin 1s steps(1) infinite;\n",
              "  }\n",
              "\n",
              "  @keyframes spin {\n",
              "    0% {\n",
              "      border-color: transparent;\n",
              "      border-bottom-color: var(--fill-color);\n",
              "      border-left-color: var(--fill-color);\n",
              "    }\n",
              "    20% {\n",
              "      border-color: transparent;\n",
              "      border-left-color: var(--fill-color);\n",
              "      border-top-color: var(--fill-color);\n",
              "    }\n",
              "    30% {\n",
              "      border-color: transparent;\n",
              "      border-left-color: var(--fill-color);\n",
              "      border-top-color: var(--fill-color);\n",
              "      border-right-color: var(--fill-color);\n",
              "    }\n",
              "    40% {\n",
              "      border-color: transparent;\n",
              "      border-right-color: var(--fill-color);\n",
              "      border-top-color: var(--fill-color);\n",
              "    }\n",
              "    60% {\n",
              "      border-color: transparent;\n",
              "      border-right-color: var(--fill-color);\n",
              "    }\n",
              "    80% {\n",
              "      border-color: transparent;\n",
              "      border-right-color: var(--fill-color);\n",
              "      border-bottom-color: var(--fill-color);\n",
              "    }\n",
              "    90% {\n",
              "      border-color: transparent;\n",
              "      border-bottom-color: var(--fill-color);\n",
              "    }\n",
              "  }\n",
              "</style>\n",
              "\n",
              "  <script>\n",
              "    async function quickchart(key) {\n",
              "      const quickchartButtonEl =\n",
              "        document.querySelector('#' + key + ' button');\n",
              "      quickchartButtonEl.disabled = true;  // To prevent multiple clicks.\n",
              "      quickchartButtonEl.classList.add('colab-df-spinner');\n",
              "      try {\n",
              "        const charts = await google.colab.kernel.invokeFunction(\n",
              "            'suggestCharts', [key], {});\n",
              "      } catch (error) {\n",
              "        console.error('Error during call to suggestCharts:', error);\n",
              "      }\n",
              "      quickchartButtonEl.classList.remove('colab-df-spinner');\n",
              "      quickchartButtonEl.classList.add('colab-df-quickchart-complete');\n",
              "    }\n",
              "    (() => {\n",
              "      let quickchartButtonEl =\n",
              "        document.querySelector('#df-933df481-ddbf-4a27-afe9-f37ee0a46ee7 button');\n",
              "      quickchartButtonEl.style.display =\n",
              "        google.colab.kernel.accessAllowed ? 'block' : 'none';\n",
              "    })();\n",
              "  </script>\n",
              "</div>\n",
              "    </div>\n",
              "  </div>\n"
            ],
            "text/plain": [
              "   ID                                                DNA\n",
              "0   1  CTCCAATACCCCCCACAAGAACACACCCATAAAATTGCAACCCACA...\n",
              "1   2  TTGATGTAGAAGTATATTTGTTGGGTATTTGAGGTAACGTTATTAG...\n",
              "2   3  ATATAATTTAAAGTCACTGGAAAAAAACAACCTAATAAAAACCACC...\n",
              "3   4  TAAAGACAAAATTAAATTGAAGTAATGTTATGTTAAAATTTTGAAT...\n",
              "4   5  AGCGTTTGTTCGTTAGCCGTAGGCAATGACGTGATTCAGGTCTGTG..."
            ]
          },
          "execution_count": 97,
          "metadata": {},
          "output_type": "execute_result"
        }
      ],
      "source": [
        "# Read the CSV file into a DataFrame\n",
        "df = pd.read_csv('DNA_patients.csv')\n",
        "\n",
        "df.head()"
      ]
    },
    {
      "cell_type": "code",
      "execution_count": 98,
      "metadata": {
        "id": "0983HNjhlDa1"
      },
      "outputs": [],
      "source": [
        "# TODO: complete the code\n",
        "# Extract DNA sequences and store them in a list\n",
        "DNAs = df['DNA']\n",
        "\n",
        "states = ['H', 'L']\n",
        "emissions = [{'A' : 0.2, 'C' : 0.3, 'G' : 0.3, 'T' : 0.2}, {'A' : 0.3, 'C' : 0.2, 'G' : 0.2, 'T' : 0.3}]\n",
        "start_probabilities = [0.5, 0.5]\n",
        "transition_probabilities = [[0.5, 0.5], [0.4, 0.6]]\n",
        "\n",
        "hmm = HMM(states, emissions, start_probabilities, transition_probabilities)\n",
        "\n",
        "GC_content_seqs = []\n",
        "\n",
        "for seq in DNAs:\n",
        "  path, max_probability = hmm.viterbi(seq)\n",
        "  GC_content_seqs.append(path)"
      ]
    },
    {
      "cell_type": "code",
      "execution_count": 99,
      "metadata": {
        "id": "-65oY4N5lqHk"
      },
      "outputs": [],
      "source": [
        "# TODO: complete the code, classify the Patients as 1 if the probability of heart disease is more that 0.5 and 0 otherwise\n",
        "heart_disease_classified = []\n",
        "\n",
        "for seq in GC_content_seqs:\n",
        "  new_height_probability, new_weight_probability, new_blood_type_probability, new_DCM_probability = probabilities_from_sequence(seq)\n",
        "  new_sex_probability = calculate_sex_probability(new_height_probability, new_weight_probability)\n",
        "  new_heart_disease_probabilities = calculate_heart_disease_probability(new_DCM_probability, new_sex_probability, new_blood_type_probability)\n",
        "\n",
        "  if(new_heart_disease_probabilities['Y'] >= 0.5):\n",
        "    heart_disease_classified += [1]\n",
        "  else:\n",
        "    heart_disease_classified += [0]"
      ]
    },
    {
      "cell_type": "code",
      "execution_count": 100,
      "metadata": {
        "id": "GU9WNiH7W6y-"
      },
      "outputs": [],
      "source": [
        "# Write the result to CSV\n",
        "labels = [(i+1, heart_disease_classified[i]) for i in range(len(heart_disease_classified))]\n",
        "csv_filename = \"heart_disease_result.csv\"\n",
        "with open(csv_filename, mode='w', newline='') as file:\n",
        "    writer = csv.writer(file)\n",
        "    writer.writerow(['ID', 'Label'])\n",
        "    for id, label in labels:\n",
        "        writer.writerow([id, label])"
      ]
    },
    {
      "cell_type": "markdown",
      "metadata": {
        "id": "w1nu_AHq1E4g"
      },
      "source": [
        "**Note: You should upload heart_disease_result.csv along side your notebook.**"
      ]
    }
  ],
  "metadata": {
    "colab": {
      "provenance": []
    },
    "kernelspec": {
      "display_name": "Python 3",
      "name": "python3"
    },
    "language_info": {
      "name": "python"
    }
  },
  "nbformat": 4,
  "nbformat_minor": 0
}

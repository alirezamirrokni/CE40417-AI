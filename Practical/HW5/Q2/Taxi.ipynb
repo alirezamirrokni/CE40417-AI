{
 "cells": [
  {
   "cell_type": "markdown",
   "metadata": {},
   "source": [
    "\n",
    "<br>\n",
    "<font>\n",
    "<div dir=ltr align=center>\n",
    "<img src=\"https://cdn.freebiesupply.com/logos/large/2x/sharif-logo-png-transparent.png\" width=150 height=150> <br>\n",
    "<font color=0F5298 size=7>\n",
    "Artificial Intelligence <br>\n",
    "<font color=2565AE size=5>\n",
    "Computer Engineering Department <br>\n",
    "Spring 2024<br>\n",
    "<font color=3C99D size=5>\n",
    "Practical Assignment 5 - RL <br>\n",
    "<font color=696880 size=4>\n",
    "Amirhossein Abedi\n",
    "\n",
    "\n",
    "____"
   ]
  },
  {
   "cell_type": "markdown",
   "metadata": {},
   "source": [
    "# Personal Data"
   ]
  },
  {
   "cell_type": "code",
   "execution_count": 5,
   "metadata": {},
   "outputs": [],
   "source": [
    "# Set your student number and name\n",
    "student_number =401106617\n",
    "Name = 'Alireza'\n",
    "Last_Name = 'Mirrokni'"
   ]
  },
  {
   "attachments": {},
   "cell_type": "markdown",
   "metadata": {},
   "source": [
    "# <center>تاکسی</center>\n",
    "\n",
    "<div dir=\"rtl\" style=\"font-size:18px\">\n",
    "در این سوال می‌خواهیم با محیط Taxi در gymnasium کار کنیم. \n",
    "<br>\n",
    "در اینجا در نقش یک تاکسی هستیم که باید یک مسافر را از یک مکان مشخص برداریم و در مقصد موردنظر او پیاده کنیم. توضیحات تکمیلی درمورد این محیط را می‌توانید در  <a href=\"https://gymnasium.farama.org/environments/toy_text/taxi/\">Taxi</a>  پیدا کنید.\n",
    "\n",
    "![Taxi](taxi.png)\n",
    "</div>"
   ]
  },
  {
   "attachments": {},
   "cell_type": "markdown",
   "metadata": {},
   "source": [
    "<div dir=\"rtl\" style=\"font-size:18px\">\n",
    "در این سوال می‌خواهیم با پیاده‌سازی الگوریتم value iteration بهترین پاسخ در هر حالت را پیدا کنیم. هر حالت در این بازی با یک عدد بین ۰ تا ۴۹۹ نشان داده می‌شود. که فرمول آن به صورت زیر است\n",
    "<br><br>\n",
    "\n",
    "### <center dir=\"ltr\">state = ((5 × row + col) × 5 + passenger_location) × 4 + destination</center>\n",
    "\n",
    "<br><br>\n",
    "مقادیر row و col که مشخص است و عددی بین ۰ تا ۴ است. مقدار passenger_location بین ۰ تا ۴ می‌باشد که هرکدام از اعداد نشان می‌دهد که مسافر در کدام پایانه قرار دارد. پایانه‌ها مکان‌هایی مشخص درون بازی هستند که می‌تواند با استفاده از تابع env.render آن‌ها را مشاهده کنید. ۴ پایانه به رنگ‌های قرمز، سبز، زرد، آبی درون بازی قرار دارند که مقادیر ۰ تا ۳ به ترتیب همین پایانه‌ها را نشان می‌دهد. و در نهایت مقدار ۴ برای passenger_location به این معنا است که مسافر در تاکسی قرار دارد.\n",
    "<br><br>\n",
    "مقدار destination نشان می‌دهد که مسافر می‌خواهد در کدام پایانه پیاده شود. نگاشت عدد و رنگ‌ها مانند بخش passenger_location می‌باشد و فقط مقادیر ۰ تا ۳ را به خود می‌گیرد.\n",
    "<br><br>\n",
    "با هر بار اجرای تابع reset و step بر روی env ، مقدار اولی که به شما برگردانده می‌شود مقدار state است. در ادامه به action ها می‌پردازیم. در کل ۶ اکشن مختلف می‌توانیم اجرا کنیم. اکشن ۰ تا ۳ به ترتیب مربوط به حرکات پایین، بالا، راست و چپ است. حرکت ۴ مربوط به برداشتن مسافر و حرکت ۵ پیاده کردن مسافر است. استفاده از حرکت ۴ و ۵ هنگامی که مجاز نباشند، ریوارد منفی زیادی خواهد داشت.\n",
    "</div>"
   ]
  },
  {
   "cell_type": "code",
   "execution_count": 6,
   "metadata": {},
   "outputs": [],
   "source": [
    "import gymnasium as gym\n",
    "env = gym.make('Taxi-v3', render_mode='ansi')"
   ]
  },
  {
   "attachments": {},
   "cell_type": "markdown",
   "metadata": {},
   "source": [
    "<div dir=\"rtl\" style=\"font-size:18px\">\n",
    "خروجی تابع reset شامل یک ۲ تایی است. اولین خروجی آن یک عدد است که نشان‌دهنده حالت اولیه می‌باشد و خروجی دوم یک دیکشنری است که مقدار action_mask شامل تمام اکشن‌هایی است که در این حالت می‌توانید انجام دهید.\n",
    "</div>"
   ]
  },
  {
   "cell_type": "code",
   "execution_count": 7,
   "metadata": {},
   "outputs": [
    {
     "data": {
      "text/plain": [
       "(32, {'prob': 1.0, 'action_mask': array([1, 0, 0, 1, 0, 0], dtype=int8)})"
      ]
     },
     "execution_count": 7,
     "metadata": {},
     "output_type": "execute_result"
    }
   ],
   "source": [
    "env.reset()"
   ]
  },
  {
   "attachments": {},
   "cell_type": "markdown",
   "metadata": {},
   "source": [
    "<div dir=\"rtl\" style=\"font-size:18px\">\n",
    "خروجی تابع step هم تا حدود زیادی شبیه به reset می باشد. با این تفاوت که بعد از خروجی حالت، یک عدد و ۲ بولین به شما می‌دهد که عدد اول مقدار reward و بولین اول تمام شدن بازی را مشخص می‌کند.\n",
    "</div>"
   ]
  },
  {
   "cell_type": "code",
   "execution_count": 8,
   "metadata": {},
   "outputs": [
    {
     "data": {
      "text/plain": [
       "(132,\n",
       " -1,\n",
       " False,\n",
       " False,\n",
       " {'prob': 1.0, 'action_mask': array([1, 1, 0, 1, 0, 0], dtype=int8)})"
      ]
     },
     "execution_count": 8,
     "metadata": {},
     "output_type": "execute_result"
    }
   ],
   "source": [
    "env.step(0)"
   ]
  },
  {
   "attachments": {},
   "cell_type": "markdown",
   "metadata": {},
   "source": [
    "<div dir=\"rtl\" style=\"font-size:18px\">\n",
    "در ادامه کلاس VI را پیاده‌سازی کنید که با گرفتن discount factor الگوریتم value iteration را پیاده‌سازی می‌کند.\n",
    "</div>"
   ]
  },
  {
   "cell_type": "code",
   "execution_count": 48,
   "metadata": {},
   "outputs": [],
   "source": [
    "import numpy as np\n",
    "\n",
    "class VI():\n",
    "    def __init__(self, gamma: float = 0.95):\n",
    "        # todo\n",
    "        self.gamma = gamma\n",
    "        self.theta = 10 ** (-6)\n",
    "        self.env = gym.make(\"Taxi-v3\", render_mode='ansi')\n",
    "        self.num_states = self.env.observation_space.n\n",
    "        self.num_actions = self.env.action_space.n\n",
    "        self.V = np.zeros(self.num_states)\n",
    "        self._policy = np.zeros(self.num_states, dtype=int)\n",
    "        self.P = self._init_transition_probabilities()\n",
    "        self.value_iteration()\n",
    "\n",
    "    def _init_transition_probabilities(self):\n",
    "        P = {s: {a: [] for a in range(self.num_actions)} for s in range(self.num_states)}\n",
    "\n",
    "        for s in range(self.num_states):\n",
    "            for a in range(self.num_actions):\n",
    "                transitions = self.env.P[s][a]\n",
    "\n",
    "                for prob, next_state, reward, done in transitions:\n",
    "                    P[s][a].append((prob, next_state, reward, done))\n",
    "\n",
    "        return P\n",
    "    \n",
    "    def value_iteration(self):\n",
    "        while True:\n",
    "            delta = 0\n",
    "\n",
    "            for s in range(self.num_states):\n",
    "                v = self.V[s]\n",
    "                action_values = np.zeros(self.num_actions)\n",
    "\n",
    "                for a in range(self.num_actions):\n",
    "                    for prob, next_state, reward, done in self.P[s][a]:\n",
    "                        action_values[a] += prob * (reward + self.gamma * self.V[next_state])\n",
    "\n",
    "                self.V[s] = max(action_values)\n",
    "                self._policy[s] = np.argmax(action_values)\n",
    "                delta = max(delta, abs(v - self.V[s]))\n",
    "\n",
    "            if delta < self.theta:\n",
    "                break\n",
    "\n",
    "    def policy(self, state: int) -> int:\n",
    "        # todo \n",
    "        return self._policy[state]\n",
    "\n",
    "    def _num_to_state(self, num: int):\n",
    "        dest = num % 4\n",
    "        num //= 4\n",
    "        passenger_loc = num % 5\n",
    "        num //= 5\n",
    "        col = num % 5\n",
    "        num //= 5\n",
    "        return num, col, passenger_loc, dest\n",
    "\n",
    "    def _state_to_num(self, row, col, passenger_loc, dest):\n",
    "        ret = row\n",
    "        ret = 5 * ret + col\n",
    "        ret = 5 * ret + passenger_loc\n",
    "        ret = 4 * ret + dest\n",
    "        return ret\n",
    "    \n",
    "agent = VI()"
   ]
  },
  {
   "attachments": {},
   "cell_type": "markdown",
   "metadata": {},
   "source": [
    "<div dir=\"rtl\" style=\"font-size:18px\">\n",
    "۲ سلول بعدی را اجرا کنید. در هر نقشه نشان داده شده است که با برقرار بودن شرایط به خصوص، تاکسی به کدام سمت حرکت می‌کند. در انتها در چند خط منطقی عمل کردن مدل خود را بررسی کنید.\n",
    "</div>"
   ]
  },
  {
   "cell_type": "code",
   "execution_count": 49,
   "metadata": {},
   "outputs": [
    {
     "name": "stdout",
     "output_type": "stream",
     "text": [
      "Passenger in R\n",
      "+---------+\n",
      "|R:←|↓:↓:G|\n",
      "|↑:↑|↓:↓:↓|\n",
      "|↑:↑:←:←:←|\n",
      "|↑|↑:↑|↑:↑|\n",
      "|Y|↑:↑|B:↑|\n",
      "+---------+\n",
      "\n",
      "Passenger in G\n",
      "+---------+\n",
      "|R:↓|→:→:G|\n",
      "|↓:↓|↑:↑:↑|\n",
      "|→:→:↑:↑:↑|\n",
      "|↑|↑:↑|↑:↑|\n",
      "|Y|↑:↑|B:↑|\n",
      "+---------+\n",
      "\n",
      "Passenger in Y\n",
      "+---------+\n",
      "|R:↓|↓:↓:G|\n",
      "|↓:↓|↓:↓:↓|\n",
      "|↓:←:←:←:←|\n",
      "|↓|↑:↑|↑:↑|\n",
      "|Y|↑:↑|B:↑|\n",
      "+---------+\n",
      "\n",
      "Passenger in B\n",
      "+---------+\n",
      "|R:↓|↓:↓:G|\n",
      "|↓:↓|↓:↓:↓|\n",
      "|→:→:→:↓:↓|\n",
      "|↑|↑:↑|↓:↓|\n",
      "|Y|↑:↑|B:←|\n",
      "+---------+\n",
      "\n"
     ]
    }
   ],
   "source": [
    "terminal = {0: 'R', 1: 'G', 2: 'Y', 3: 'B'}\n",
    "arrows = {0: '↓', 1: '↑', 2: '→', 3: '←'}\n",
    "for passenger_loc in range(4):\n",
    "    print(f'Passenger in {terminal[passenger_loc]}')\n",
    "    print('+---------+')\n",
    "    for i in range(5):\n",
    "        print('|', end='')\n",
    "        for j in range(5):\n",
    "            if not j == 0:\n",
    "                if (i, j) in [(0, 2), (1, 2), (3, 1), (4, 1), (3, 3), (4, 3)]:\n",
    "                    print('|', end='')\n",
    "                else:\n",
    "                    print(':', end='')\n",
    "            if (i, j) in [(0, 0), (0, 4), (4, 0), (4, 3)]:\n",
    "                print(terminal[[(0, 0), (0, 4), (4, 0), (4, 3)].index((i, j))], end='')\n",
    "            else:\n",
    "                try:\n",
    "                    print(arrows[agent.policy(agent._state_to_num(i, j, passenger_loc, 1))], end='')\n",
    "                except:\n",
    "                    print('⤬', end='')\n",
    "        print('|')\n",
    "    print('+---------+\\n')\n",
    "            \n",
    "            "
   ]
  },
  {
   "cell_type": "code",
   "execution_count": 50,
   "metadata": {},
   "outputs": [
    {
     "name": "stdout",
     "output_type": "stream",
     "text": [
      "Passenger on board, destination in R\n",
      "+---------+\n",
      "|R:←|↓:↓:G|\n",
      "|↑:↑|↓:↓:↓|\n",
      "|↑:↑:←:←:←|\n",
      "|↑|↑:↑|↑:↑|\n",
      "|Y|↑:↑|B:↑|\n",
      "+---------+\n",
      "\n",
      "Passenger on board, destination in G\n",
      "+---------+\n",
      "|R:↓|→:→:G|\n",
      "|↓:↓|↑:↑:↑|\n",
      "|→:→:↑:↑:↑|\n",
      "|↑|↑:↑|↑:↑|\n",
      "|Y|↑:↑|B:↑|\n",
      "+---------+\n",
      "\n",
      "Passenger on board, destination in Y\n",
      "+---------+\n",
      "|R:↓|↓:↓:G|\n",
      "|↓:↓|↓:↓:↓|\n",
      "|↓:←:←:←:←|\n",
      "|↓|↑:↑|↑:↑|\n",
      "|Y|↑:↑|B:↑|\n",
      "+---------+\n",
      "\n",
      "Passenger on board, destination in B\n",
      "+---------+\n",
      "|R:↓|↓:↓:G|\n",
      "|↓:↓|↓:↓:↓|\n",
      "|→:→:→:↓:↓|\n",
      "|↑|↑:↑|↓:↓|\n",
      "|Y|↑:↑|B:←|\n",
      "+---------+\n",
      "\n"
     ]
    },
    {
     "ename": "",
     "evalue": "",
     "output_type": "error",
     "traceback": [
      "\u001b[1;31mThe Kernel crashed while executing code in the current cell or a previous cell. \n",
      "\u001b[1;31mPlease review the code in the cell(s) to identify a possible cause of the failure. \n",
      "\u001b[1;31mClick <a href='https://aka.ms/vscodeJupyterKernelCrash'>here</a> for more info. \n",
      "\u001b[1;31mView Jupyter <a href='command:jupyter.viewOutput'>log</a> for further details."
     ]
    }
   ],
   "source": [
    "terminal = {0: 'R', 1: 'G', 2: 'Y', 3: 'B'}\n",
    "arrows = {0: '↓', 1: '↑', 2: '→', 3: '←'}\n",
    "for dest in range(4):\n",
    "    print(f'Passenger on board, destination in {terminal[dest]}')\n",
    "    print('+---------+')\n",
    "    for i in range(5):\n",
    "        print('|', end='')\n",
    "        for j in range(5):\n",
    "            if not j == 0:\n",
    "                if (i, j) in [(0, 2), (1, 2), (3, 1), (4, 1), (3, 3), (4, 3)]:\n",
    "                    print('|', end='')\n",
    "                else:\n",
    "                    print(':', end='')\n",
    "            if (i, j) in [(0, 0), (0, 4), (4, 0), (4, 3)]:\n",
    "                print(terminal[[(0, 0), (0, 4), (4, 0), (4, 3)].index((i, j))], end='')\n",
    "            else:\n",
    "                try:\n",
    "                    print(arrows[agent.policy(agent._state_to_num(i, j, 4, dest))], end='')\n",
    "                except:\n",
    "                    print('⤬', end='')\n",
    "        print('|')\n",
    "    print('+---------+\\n')"
   ]
  },
  {
   "cell_type": "code",
   "execution_count": null,
   "metadata": {},
   "outputs": [],
   "source": []
  },
  {
   "cell_type": "code",
   "execution_count": null,
   "metadata": {},
   "outputs": [],
   "source": []
  }
 ],
 "metadata": {
  "kernelspec": {
   "display_name": "Python 3",
   "language": "python",
   "name": "python3"
  },
  "language_info": {
   "codemirror_mode": {
    "name": "ipython",
    "version": 3
   },
   "file_extension": ".py",
   "mimetype": "text/x-python",
   "name": "python",
   "nbconvert_exporter": "python",
   "pygments_lexer": "ipython3",
   "version": "3.11.9"
  },
  "orig_nbformat": 4
 },
 "nbformat": 4,
 "nbformat_minor": 2
}
